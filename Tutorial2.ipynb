{
  "nbformat": 4,
  "nbformat_minor": 0,
  "metadata": {
    "colab": {
      "provenance": [],
      "authorship_tag": "ABX9TyPMoPaH1fuPJabqfyXO+cAM",
      "include_colab_link": true
    },
    "kernelspec": {
      "name": "python3",
      "display_name": "Python 3"
    },
    "language_info": {
      "name": "python"
    }
  },
  "cells": [
    {
      "cell_type": "markdown",
      "metadata": {
        "id": "view-in-github",
        "colab_type": "text"
      },
      "source": [
        "<a href=\"https://colab.research.google.com/github/Lysinic/Decipherco/blob/main/Tutorial2.ipynb\" target=\"_parent\"><img src=\"https://colab.research.google.com/assets/colab-badge.svg\" alt=\"Open In Colab\"/></a>"
      ]
    },
    {
      "cell_type": "code",
      "execution_count": 10,
      "metadata": {
        "colab": {
          "base_uri": "https://localhost:8080/"
        },
        "id": "xTuqw6Ql1g4v",
        "outputId": "86f7ac83-43b1-4574-a64f-9045d476f006"
      },
      "outputs": [
        {
          "output_type": "stream",
          "name": "stdout",
          "text": [
            "Drive already mounted at /content/drive; to attempt to forcibly remount, call drive.mount(\"/content/drive\", force_remount=True).\n",
            "  Company      Product   TypeName  Inches  Ram     OS  Weight  Price_euros  \\\n",
            "0   Apple  MacBook Pro  Ultrabook    13.3    8  macOS    1.37      1339.69   \n",
            "1   Apple  Macbook Air  Ultrabook    13.3    8  macOS    1.34       898.94   \n",
            "2      HP       250 G6   Notebook    15.6    8  No OS    1.86       575.00   \n",
            "3   Apple  MacBook Pro  Ultrabook    15.4   16  macOS    1.83      2537.45   \n",
            "4   Apple  MacBook Pro  Ultrabook    13.3    8  macOS    1.37      1803.60   \n",
            "\n",
            "     Screen  ScreenW  ...  RetinaDisplay CPU_company CPU_freq      CPU_model  \\\n",
            "0  Standard     2560  ...            Yes       Intel      2.3        Core i5   \n",
            "1  Standard     1440  ...             No       Intel      1.8        Core i5   \n",
            "2   Full HD     1920  ...             No       Intel      2.5  Core i5 7200U   \n",
            "3  Standard     2880  ...            Yes       Intel      2.7        Core i7   \n",
            "4  Standard     2560  ...            Yes       Intel      3.1        Core i5   \n",
            "\n",
            "  PrimaryStorage  SecondaryStorage PrimaryStorageType  SecondaryStorageType  \\\n",
            "0            128                 0                SSD                    No   \n",
            "1            128                 0      Flash Storage                    No   \n",
            "2            256                 0                SSD                    No   \n",
            "3            512                 0                SSD                    No   \n",
            "4            256                 0                SSD                    No   \n",
            "\n",
            "   GPU_company               GPU_model  \n",
            "0        Intel  Iris Plus Graphics 640  \n",
            "1        Intel        HD Graphics 6000  \n",
            "2        Intel         HD Graphics 620  \n",
            "3          AMD          Radeon Pro 455  \n",
            "4        Intel  Iris Plus Graphics 650  \n",
            "\n",
            "[5 rows x 23 columns]\n"
          ]
        }
      ],
      "source": [
        "import numpy as np\n",
        "import pandas as pd\n",
        "\n",
        "from google.colab import drive\n",
        "drive.mount('/content/drive')\n",
        "\n",
        "df = pd.read_csv('/content/drive/MyDrive/Colab Notebooks/Archive/laptop_prices.csv')\n",
        "\n",
        "print(df.head())\n"
      ]
    }
  ]
}