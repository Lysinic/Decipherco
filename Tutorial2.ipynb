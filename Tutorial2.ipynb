{
  "nbformat": 4,
  "nbformat_minor": 0,
  "metadata": {
    "colab": {
      "provenance": [],
      "authorship_tag": "ABX9TyNyF8CDqYFsval7LCRjvNsw",
      "include_colab_link": true
    },
    "kernelspec": {
      "name": "python3",
      "display_name": "Python 3"
    },
    "language_info": {
      "name": "python"
    }
  },
  "cells": [
    {
      "cell_type": "markdown",
      "metadata": {
        "id": "view-in-github",
        "colab_type": "text"
      },
      "source": [
        "<a href=\"https://colab.research.google.com/github/Lysinic/Tutorials-alief/blob/main/Tutorial2.ipynb\" target=\"_parent\"><img src=\"https://colab.research.google.com/assets/colab-badge.svg\" alt=\"Open In Colab\"/></a>"
      ]
    },
    {
      "cell_type": "code",
      "execution_count": null,
      "metadata": {
        "colab": {
          "base_uri": "https://localhost:8080/"
        },
        "id": "xTuqw6Ql1g4v",
        "outputId": "db437db8-7258-4ea4-f060-4fcd375e14f0"
      },
      "outputs": [
        {
          "output_type": "stream",
          "name": "stdout",
          "text": [
            "Drive already mounted at /content/drive; to attempt to forcibly remount, call drive.mount(\"/content/drive\", force_remount=True).\n",
            "  Company      Product   TypeName  Inches  Ram     OS  Weight  Price_euros  \\\n",
            "0   Apple  MacBook Pro  Ultrabook    13.3    8  macOS    1.37      1339.69   \n",
            "1   Apple  Macbook Air  Ultrabook    13.3    8  macOS    1.34       898.94   \n",
            "2      HP       250 G6   Notebook    15.6    8  No OS    1.86       575.00   \n",
            "3   Apple  MacBook Pro  Ultrabook    15.4   16  macOS    1.83      2537.45   \n",
            "4   Apple  MacBook Pro  Ultrabook    13.3    8  macOS    1.37      1803.60   \n",
            "\n",
            "     Screen  ScreenW  ...  RetinaDisplay CPU_company CPU_freq      CPU_model  \\\n",
            "0  Standard     2560  ...            Yes       Intel      2.3        Core i5   \n",
            "1  Standard     1440  ...             No       Intel      1.8        Core i5   \n",
            "2   Full HD     1920  ...             No       Intel      2.5  Core i5 7200U   \n",
            "3  Standard     2880  ...            Yes       Intel      2.7        Core i7   \n",
            "4  Standard     2560  ...            Yes       Intel      3.1        Core i5   \n",
            "\n",
            "  PrimaryStorage  SecondaryStorage PrimaryStorageType  SecondaryStorageType  \\\n",
            "0            128                 0                SSD                    No   \n",
            "1            128                 0      Flash Storage                    No   \n",
            "2            256                 0                SSD                    No   \n",
            "3            512                 0                SSD                    No   \n",
            "4            256                 0                SSD                    No   \n",
            "\n",
            "   GPU_company               GPU_model  \n",
            "0        Intel  Iris Plus Graphics 640  \n",
            "1        Intel        HD Graphics 6000  \n",
            "2        Intel         HD Graphics 620  \n",
            "3          AMD          Radeon Pro 455  \n",
            "4        Intel  Iris Plus Graphics 650  \n",
            "\n",
            "[5 rows x 23 columns]\n",
            "[[1 2]\n",
            " [3 4]]\n",
            "[[ 1  2  3  4]\n",
            " [ 5  6  7  8]\n",
            " [ 9 10 11 12]]\n",
            "[[1. 1.]\n",
            " [1. 1.]]\n",
            "[[0. 0. 0.]\n",
            " [0. 0. 0.]\n",
            " [0. 0. 0.]]\n",
            "[[ 1  9 17 25 33 41]\n",
            " [ 2 10 18 26 34 42]\n",
            " [ 3 11 19 27 35 43]\n",
            " [ 4 12 20 28 36 44]\n",
            " [ 5 13 21 29 37 45]\n",
            " [ 6 14 22 30 38 46]\n",
            " [ 7 15 23 31 39 47]\n",
            " [ 8 16 24 32 40 48]]\n",
            "[[ 4  5  6]\n",
            " [14 19 24]]\n"
          ]
        }
      ],
      "source": [
        "import numpy as np\n",
        "import pandas as pd\n",
        "\n",
        "from google.colab import drive\n",
        "drive.mount('/content/drive')\n",
        "\n",
        "df = pd.read_csv('/content/drive/MyDrive/Colab Notebooks/Archive/laptop_prices.csv')\n",
        "\n",
        "print(df.head())\n",
        "\n",
        "\n",
        "x = np.array([[1,2],[3,4]])\n",
        "print(x)\n",
        "\n",
        "y = np.arange(1, 13).reshape((3, 4))\n",
        "print(y)\n",
        "\n",
        "a = np.ones((2,2))\n",
        "print(a)\n",
        "\n",
        "b = np.zeros((3,3))\n",
        "print(b)\n",
        "\n",
        "c = np.arange(1,49).reshape(6,8)\n",
        "print(c.transpose())\n",
        "\n",
        "\n",
        "n=2\n",
        "p=2\n",
        "m=3\n",
        "array1 = np.arange(0, n*p).reshape(n, p)\n",
        "array2 = np.arange(1, p*m+1).reshape(p,m)\n",
        "print(np.dot(array1, array2))"
      ]
    }
  ]
}